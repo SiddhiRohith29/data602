{
 "cells": [
  {
   "cell_type": "markdown",
   "id": "318de7cb",
   "metadata": {},
   "source": [
    "# Week11 - Clustering Lab\n",
    "\n",
    "* Create clusters for the following dataset\n",
    "* Choose a meaningful cluster count\n",
    "* Identify potential labels for each cluster"
   ]
  },
  {
   "cell_type": "code",
   "execution_count": 1,
   "id": "4089dbd4",
   "metadata": {},
   "outputs": [
    {
     "data": {
      "text/html": [
       "<div>\n",
       "<style scoped>\n",
       "    .dataframe tbody tr th:only-of-type {\n",
       "        vertical-align: middle;\n",
       "    }\n",
       "\n",
       "    .dataframe tbody tr th {\n",
       "        vertical-align: top;\n",
       "    }\n",
       "\n",
       "    .dataframe thead th {\n",
       "        text-align: right;\n",
       "    }\n",
       "</style>\n",
       "<table border=\"1\" class=\"dataframe\">\n",
       "  <thead>\n",
       "    <tr style=\"text-align: right;\">\n",
       "      <th></th>\n",
       "      <th>name</th>\n",
       "      <th>text</th>\n",
       "    </tr>\n",
       "  </thead>\n",
       "  <tbody>\n",
       "    <tr>\n",
       "      <th>0</th>\n",
       "      <td>Digby Morrell</td>\n",
       "      <td>digby morrell born 10 october 1979 is a former...</td>\n",
       "    </tr>\n",
       "    <tr>\n",
       "      <th>1</th>\n",
       "      <td>Alfred J. Lewy</td>\n",
       "      <td>alfred j lewy aka sandy lewy graduated from un...</td>\n",
       "    </tr>\n",
       "    <tr>\n",
       "      <th>2</th>\n",
       "      <td>Harpdog Brown</td>\n",
       "      <td>harpdog brown is a singer and harmonica player...</td>\n",
       "    </tr>\n",
       "    <tr>\n",
       "      <th>3</th>\n",
       "      <td>Franz Rottensteiner</td>\n",
       "      <td>franz rottensteiner born in waidmannsfeld lowe...</td>\n",
       "    </tr>\n",
       "    <tr>\n",
       "      <th>4</th>\n",
       "      <td>G-Enka</td>\n",
       "      <td>henry krvits born 30 december 1974 in tallinn ...</td>\n",
       "    </tr>\n",
       "  </tbody>\n",
       "</table>\n",
       "</div>"
      ],
      "text/plain": [
       "                  name                                               text\n",
       "0        Digby Morrell  digby morrell born 10 october 1979 is a former...\n",
       "1       Alfred J. Lewy  alfred j lewy aka sandy lewy graduated from un...\n",
       "2        Harpdog Brown  harpdog brown is a singer and harmonica player...\n",
       "3  Franz Rottensteiner  franz rottensteiner born in waidmannsfeld lowe...\n",
       "4               G-Enka  henry krvits born 30 december 1974 in tallinn ..."
      ]
     },
     "execution_count": 1,
     "metadata": {},
     "output_type": "execute_result"
    }
   ],
   "source": [
    "from zipfile import ZipFile\n",
    "from io import BytesIO\n",
    "import urllib.request as urllib2\n",
    "import pandas as pd\n",
    "\n",
    "def get_data():\n",
    "    r = urllib2.urlopen(\"https://github.com/msaricaumbc/DS_data/blob/master/ds602/people_wiki.zip?raw=true\").read()\n",
    "    file = ZipFile(BytesIO(r))\n",
    "    people_wiki_csv = file.open(\"people_wiki.csv\")\n",
    "    people = pd.read_csv(people_wiki_csv)\n",
    "    people.drop('URI', inplace=True, axis=1)\n",
    "    return people\n",
    "\n",
    "people = get_data()\n",
    "people.head()"
   ]
  },
  {
   "cell_type": "code",
   "execution_count": 3,
   "id": "14f7d251",
   "metadata": {},
   "outputs": [],
   "source": [
    "from sklearn.feature_extraction.text import CountVectorizer\n",
    "\n",
    "vec = CountVectorizer(stop_words='english', max_features=10000)\n",
    "corpus = vec.fit_transform(people.text)"
   ]
  },
  {
   "cell_type": "code",
   "execution_count": 5,
   "id": "5949a090",
   "metadata": {},
   "outputs": [
    {
     "data": {
      "image/png": "[encoded data removed]",
      "text/plain": [
       "<Figure size 640x480 with 1 Axes>"
      ]
     },
     "metadata": {},
     "output_type": "display_data"
    }
   ],
   "source": [
    "from sklearn.cluster import KMeans\n",
    "import matplotlib.pyplot as plt\n",
    "\n",
    "clusters = []\n",
    "for k in range(1, 15):\n",
    "    kmeans = KMeans(n_clusters=k, random_state=0).fit(corpus)\n",
    "    clusters.append(kmeans.inertia_)\n",
    "\n",
    "plt.plot(range(1, 15), clusters, marker='o')\n",
    "plt.xlabel('Number of clusters')\n",
    "plt.ylabel('Distortion')\n",
    "plt.show()"
   ]
  },
  {
   "cell_type": "code",
   "execution_count": 7,
   "id": "30edbf53",
   "metadata": {},
   "outputs": [
    {
     "name": "stdout",
     "output_type": "stream",
     "text": [
      "4    19235\n",
      "3     7223\n",
      "1     6834\n",
      "0     4811\n",
      "2     4683\n",
      "Name: cluster, dtype: int64\n"
     ]
    }
   ],
   "source": [
    "# Choose number of clusters and generate clusters\n",
    "kmeans = KMeans(n_clusters=5, random_state=0).fit(corpus)\n",
    "people['cluster'] = kmeans.labels_\n",
    "\n",
    "# Print number of documents in each cluster\n",
    "print(people['cluster'].value_counts())\n",
    "\n",
    "# Assign labels to clusters based on representative documents\n",
    "labels = {\n",
    "    0: 'Business',\n",
    "    1: 'Science',\n",
    "    2: 'Arts',\n",
    "    3: 'Politics',\n",
    "    4: 'Sports'\n",
    "}\n",
    "people['label'] = people['cluster'].map(labels)"
   ]
  },
  {
   "cell_type": "code",
   "execution_count": 8,
   "id": "a2a3bb4f",
   "metadata": {},
   "outputs": [
    {
     "name": "stdout",
     "output_type": "stream",
     "text": [
      "ARTS\n",
      "--------------------------------------------------\n",
      "Cathy Caruth\n",
      "cathy caruth born 1955 is frank h t rhodes professor of humane letters at cornell university and is appointed in the departments of english and comparative literature she taught previously at yale and at emory university where she helped build the department of comparative literature she received her phd from yale university in 1988 and is the author of empirical truths and critical fictions locke wordsworth kant freud johns hopkins up 1991 unclaimed experience trauma narrative and history johns...\n",
      "\n",
      "Andrew Pinsent\n",
      "fr andrew pinsent born 19 august 1966 is research director of the ian ramsey centre for science and religion at oxford university a member of the theology faculty a research fellow of harris manchester college and a catholic priest of the diocese of arundel and brighton in england a focus of his present research is the application of insights from autism and social cognition to secondperson accounts of moral perception and character formation his previous scientific research contributed to the d...\n",
      "\n",
      "John Angus Campbell\n",
      "john angus campbell born march 10 1942 in portland oregon usa is a retired american professor of rhetoric and is a fellow of the center for science and culture a branch of the discovery institute a conservative christian think tank and of the international society for complexity information and design a professional society dedicated to the promotion of intelligent designcampbell served as an assistant and associate professor of communications at the university of washington from 19681995 and as...\n",
      "\n",
      "Ted Hill (mathematician)\n",
      "theodore preston hill born december 28 1943 is an american mathematician known for his research on mathematical probability theory in particular for his work on benfords law and for his work in the theories of optimal stopping secretary problems and fair divisionborn in flatbush new york he studied at the united states military academy at west point distinguished graduate of the class of 1966 and stanford university ms in operations research after surviving the us army ranger school and serving ...\n",
      "\n",
      "Douglas Davies\n",
      "douglas james davies born 1947 is professor in the study of religion in the department of theology and religion at the university of durham he is an authority in the history theology and sociology of death his fields of expertise also include anthropology the study of religion the rituals and beliefs surrounding funerary rites and cremation around the globe and mormonism his research interests cover identity and belief and anglican leadershipborn in wales he read two bachelor of arts degrees at ...\n",
      "\n",
      "\n",
      "BUSINESS\n",
      "--------------------------------------------------\n",
      "G-Enka\n",
      "henry krvits born 30 december 1974 in tallinn better known by his stagename genka is an estonian rapper and record producergenka started rapping in 1996 along with revo and dj paul oja who was genkas schoolmate together they started a band called toe tag their first album the real kuhnja homophobes was released next year in 1998 genka and revo joined another estonian rap group arhm and toe tag went on vacation also genka started making his own solo songs the most famous hit was tallinn which was...\n",
      "\n",
      "Aaron LaCrate\n",
      "aaron lacrate is an american music producer recording artist dj fashion designer of milkcrate records and milkcrate clothing and a film director he was born in baltimore maryland and grew up in highlandtown east baltimoreaaron lacrate is credited for popularizing baltimore music and culture on a world wide level via his music and clothing in 2009 aaron lacrate produced the first ever baltimore club platinum record for pop star dizzee rascals song road ragehbo commissioned milkcrate athletics and...\n",
      "\n",
      "Alexandros Mouzas\n",
      "alexandros mouzas born 1962 is a greek composer he studied composition with theodore antoniou advanced theory with haris xanthoudakis and electronic music with dimitris kamarotos he has composed for various ensembles and has received commissions from organizations and orchestrashe has collaborated with the choreographer konstantinos michos and the lathos kinissi dance group in many productions among them trisha never left home days of vironas papageno and calamity till the dawn and with airesis ...\n",
      "\n",
      "Chris Batstone\n",
      "chris batstone was the 20002002 lead singer of the thirdwave ska band suburban legends he joined the band in 2000 as the replacement for tim maurer who had left the band after the recording of origin edition chris first and only official recording with the band was on their first ep suburban legends released in 2001 chris has credits for cowriting the song i want more and desperate found on the ephe left the band in early 2002 reportedly he became increasingly dissatisfied with the direction the...\n",
      "\n",
      "Faith Soloway\n",
      "faith soloway born march 28 1964 is an american folkrock musician comedic performer and creator of several folkrock musicals based in the boston area she studied theater at indiana university and performed improv comedy regularly along with leaving school to tour with second city she spent three years as music director for second city which led to the creation of soloways first original musical the real life brady bunch the show which premiered in 1990 was a collaboration with her sister jill so...\n",
      "\n",
      "\n",
      "POLITICS\n",
      "--------------------------------------------------\n",
      "Digby Morrell\n",
      "digby morrell born 10 october 1979 is a former australian rules footballer who played with the kangaroos and carlton in the australian football league aflfrom western australia morrell played his early senior football for west perth his 44game senior career for the falcons spanned 19982000 and he was the clubs leading goalkicker in 2000 at the age of 21 morrell was recruited to the australian football league by the kangaroos football club with its third round selection in the 2001 afl rookie dra...\n",
      "\n",
      "Paddy Dunne (Gaelic footballer)\n",
      "paddy dunne was a gaelic football player from park in county laoishe played for many years on the laois senior football team in the centre half back position and was widely regarded as one of the outstanding players in ireland of the 1950swith his club park he was captain as they won two laois senior football championship titles in 1952 and 1953called up the laois team in 1949 following outstanding performances for his club park paddy was centre back on the laois team who were narrowly beaten by...\n",
      "\n",
      "Ceiron Thomas\n",
      "ceiron thomas born 23 october 1983 is a welsh rugby union footballer currently playing for st ives rfc after signing from the cornish pirates in june 2012 his previous clubs are leeds carnegie and the scarlets his regular position is at flyhalf though he is often played at fullbackthomas began his rugby career with the llanellibased scarlets and made his debut for the region in 2003 when he played in a friendly against the slovenia national team llanelli won the game 950 scoring 14 tries with th...\n",
      "\n",
      "Adel Sellimi\n",
      "adel sellimi arabic was born on 16 november 1972 in the bab jedid district of tunis as a child he drew inspiration from the 1978 world cup team who became the first african nation to win a world cup match at the age of 10 he joined his first club club africain of tunis and he stayed there for the next 14 years picking up two tunisian league titles and one tunisia cup along the wayhis quick pace strength on the ball and creativity earned him a callup to the national team and he earned his first c...\n",
      "\n",
      "Vic Stasiuk\n",
      "victor john stasiuk born may 23 1929 is a retired canadian professional ice hockey left winger and a former nhl head coach stasiuk played junior hockey in his native lethbridge alberta before signing with the chicago black hawks he played sparingly in chicago and he was traded to the detroit red wings in 1951 for much of the early portion of his career stasiuk was viewed as a physical defensiveoriented forward on the offensiverich red wings stasiuk was often the odd man out and he spent signific...\n",
      "\n",
      "\n",
      "SCIENCE\n",
      "--------------------------------------------------\n",
      "David Chernushenko\n",
      "david chernushenko born june 1963 in calgary alberta is a politician professional speaker sustainability consultant and documentary filmmaker in ontario canada he was elected to ottawa city council in the 2010 municipal election and is running for reelection in 2014 he is the former senior deputy to the leader of the green party of canada and a former leadership contestant for that partya graduate of queens university political science and alumnus of cambridge university international relations ...\n",
      "\n",
      "Mindaugas Murza\n",
      "mindaugas gervaldas until 2012 year mindaugas murza born december 16 1973 is an antisemitic lithuanian politician a radical nationalist former member of the national democratic party lithuania former member of the lithuanian national defence volunteer forces a lithuanian government sponsored paramilitary organization a one time leader of the neonazi national socialist party and member of iauliai city municipality council he is known for his antisemitic statementsin 1998 gervaldas and other membe...\n",
      "\n",
      "Gary Emineth\n",
      "gary emineth born october 24 1958 is a political figure in the us state of north dakota serving as the chairman of the north dakota republican party since july 2007s retirement of ken karls he was chosen at the partys committee meeting in fargo north dakota in july 2007in the 2010 election he led the north dakota republican party as every single republican candidate for statewide office won election including us representative and us senator during both of his terms as state party chairman repub...\n",
      "\n",
      "Sylvie Roy\n",
      "sylvie roy born november 4 1964 in la tuque quebec is a politician in quebec canada and the coalition avenir qubec member of the national assembly for the electoral district of arthabaska she previously represented the riding of lotbinire from 2003 until 2012 initially as a member of the nowdefunct adq until the merger of that party into the caq in 2012she was awarded a law degree from universit laval in 1987 and admitted to the barreau du qubec in 1988 she was lawyer for 15 years including 12 y...\n",
      "\n",
      "Robert N. Chatigny\n",
      "robert neil chatigny born 1952 taunton ma is a federal judge for the united states district court for the district of connecticut having served on the court from 1994 to the present judge chatigny was nominated to the court by president bill clinton on august 5 1994 to a seat vacated by warren w eginton confirmed by the united states senate on september 28 1994 and received his commission on september 29 1994 he has served as chief judge of the court from 2003 to september 2009 judge chatigny re...\n",
      "\n",
      "\n",
      "SPORTS\n",
      "--------------------------------------------------\n",
      "Alfred J. Lewy\n",
      "alfred j lewy aka sandy lewy graduated from university of chicago in 1973 after studying psychiatry pharmacology and ophthalmology he is a full professor and vicechair of the department of psychiatry at ohsu oregon health science university and holds an md and phd prior to moving to oregon in 1981 lewy was at the national institute of mental health nimh in bethesda maryland working with senior colleague thomas wehr in oregon he has worked closely with robert l sack as of december 2005 he had 94 ...\n",
      "\n",
      "Harpdog Brown\n",
      "harpdog brown is a singer and harmonica player who has been active in canadas blues scene since 1982 hailing from vancouver he crossed tens of thousands of miles playing club dates and festivals in canada the northwestern united states and germanyover the years he has issued seven cds in 1995 his home is where the harp is won the muddy award for the best nw blues release from the cascade blues association in portland oregon as well that year it was nominated for a canadian juno for the best blue...\n",
      "\n",
      "Franz Rottensteiner\n",
      "franz rottensteiner born in waidmannsfeld lower austria austria on 18 january 1942 is an austrian publisher and critic in the fields of science fiction and the fantasticrottensteiner studied journalism english and history at the university of vienna receiving his doctorate in 1969 he served about fifteen years as librarian and editor at the sterreichisches institut fr bauforschung in vienna in addition he produced a number of translations into german of leading sf authors including herbert w fra...\n",
      "\n",
      "Sam Henderson\n",
      "sam henderson born october 18 1969 is an american cartoonist writer and expert on american comedy historyhenderson was born in woodstock new york he attended boiceville new yorks onteora high school graduating in 1987 and the school of visual arts in new york city where he graduated in 1991henderson has been selfpublishing xeroxed minicomics since 1980 in the midtolate 1980s he drew and published a comic called captain spaz with his friend bobby weiss the series ended in 1988 as he was busy in c...\n",
      "\n",
      "Trevor Ferguson\n",
      "trevor ferguson aka john farrow born 11 november 1947 is a canadian novelist who lives in hudson quebec he is the author of nine novels and four plays he has been called canadas best novelist both in books in canada and the toronto starborn in seaforth huron county ontario in 1947 he was raised in montreal from the age of three in his midteens he gravitated towards canadas northwest where he worked on railway gangs and also began to write working at night in the bunkhousesin his early twenties h...\n",
      "\n",
      "\n"
     ]
    }
   ],
   "source": [
    "# Print example documents from each cluster\n",
    "for label, df in people.groupby('label'):\n",
    "    print(label.upper())\n",
    "    print('-' * 50)\n",
    "    for i, row in df.head(5).iterrows():\n",
    "        print(row['name'])\n",
    "        print(row['text'][:500] + '...')\n",
    "        print()\n",
    "    print()"
   ]
  }
 ],
 "metadata": {
  "kernelspec": {
   "display_name": "Python 3 (ipykernel)",
   "language": "python",
   "name": "python3"
  },
  "language_info": {
   "codemirror_mode": {
    "name": "ipython",
    "version": 3
   },
   "file_extension": ".py",
   "mimetype": "text/x-python",
   "name": "python",
   "nbconvert_exporter": "python",
   "pygments_lexer": "ipython3",
   "version": "3.9.13"
  },
  "toc": {
   "base_numbering": 1,
   "nav_menu": {},
   "number_sections": false,
   "sideBar": true,
   "skip_h1_title": false,
   "title_cell": "Table of Contents",
   "title_sidebar": "Contents",
   "toc_cell": false,
   "toc_position": {},
   "toc_section_display": true,
   "toc_window_display": true
  }
 },
 "nbformat": 4,
 "nbformat_minor": 5
}
