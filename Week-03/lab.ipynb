{
 "cells": [
  {
   "cell_type": "markdown",
   "id": "57771d6f",
   "metadata": {},
   "source": [
    "# Week 3 Lab"
   ]
  },
  {
   "cell_type": "markdown",
   "id": "ccb647fd",
   "metadata": {},
   "source": [
    "## Questions:\n",
    "- Differences between supervised and unsupervised learning?  \n",
    "- Differences between classification and regression?  \n",
    "- Classification and regression are the only types of supervised learning? "
   ]
  },
  {
   "cell_type": "markdown",
   "id": "03e12e71",
   "metadata": {},
   "source": []
  },
  {
   "cell_type": "markdown",
   "id": "f2158ee6",
   "metadata": {},
   "source": [
    "### Differences between supervised and unsupervised learning?"
   ]
  },
  {
   "cell_type": "markdown",
   "id": "2dbde194",
   "metadata": {},
   "source": [
    "* Machine learning techniques come in two flavors: supervised and unsupervised. Using labeled data, where the input features and output values are specified, supervised learning teaches the model to correctly predict output values for new input data. On the other hand, unsupervised learning uses unlabeled data to find hidden patterns or structure in the data. Unsupervised learning is used for clustering, dimensionality reduction, and anomaly detection while supervised learning is used for classification and regression problems. In supervised learning, the model is trained by varying its weights and biases to reduce the discrepancy between expected and actual output values. In contrast, in unsupervised learning, the model learns by changing the model's parameters to group related data points or find patterns. Evaluation of the model performance is based on a holdout set of labeled data in supervised learning and on the quality of the learned structure or patterns in unsupervised learning."
   ]
  },
  {
   "cell_type": "markdown",
   "id": "ae53fd92",
   "metadata": {},
   "source": [
    "### Differences between classification and regression?"
   ]
  },
  {
   "cell_type": "markdown",
   "id": "eb3004ab",
   "metadata": {},
   "source": [
    "* Regression and classification are two supervised learning methods used in machine learning, each with distinct goals and results.\n",
    "\n",
    "* Predicting a categorical output variable, such as whether an email is spam, whether a customer will purchase a product, or which type of flower a plant is, involves classification. The goal of classification is to precisely categorize each observation that is input into a particular category or class. Decision trees, random forests, logistic regression, and support vector machines are examples of classification algorithms.\n",
    "\n",
    "* Regression involves making predictions about a continuous output variable, like the cost of a home, the weather, or a person's age. Based on the correlation between the input variables and the output variable, regression aims to accurately predict the value of the output variable for new input observations. Ridge regression, polynomial regression, and linear regression are examples of regression algorithms.\n",
    "\n",
    "* The type of predicted output variable is the main distinction between classification and regression. The output variable in classification is categorical, whereas the output variable in regression is continuous. The type of model used also makes a difference because some models work better with categorical data while others work better with continuous data.\n",
    "\n",
    "* Overall, the type of problem and the characteristics of the data determine which method should be used: classification or regression. Regression is used when the output variable is continuous and the goal is to predict its value based on the input variables. Classification is used when the output variable is categorical and the goal is to assign each input observation to a specific class.\n",
    "\n",
    "\n",
    "\n",
    "\n",
    "\n",
    "\n"
   ]
  },
  {
   "cell_type": "markdown",
   "id": "558f77e5",
   "metadata": {},
   "source": [
    "### Classification and regression are the only types of supervised learning?"
   ]
  },
  {
   "cell_type": "markdown",
   "id": "914a8327",
   "metadata": {},
   "source": [
    "* No, there are other supervised learning methods besides regression and classification. The \"ordinal regression\" problem is one such instance, where the target variable is ordinal, i.e., it naturally has a hierarchy of levels. The \"multi-label classification\" problem is another illustration, where each data point may concurrently belong to multiple classes. Other specialized supervised learning approaches, like time series forecasting and recommendation systems, have their own special qualities and difficulties."
   ]
  },
  {
   "cell_type": "code",
   "execution_count": null,
   "id": "ee91b032",
   "metadata": {},
   "outputs": [],
   "source": []
  }
 ],
 "metadata": {
  "kernelspec": {
   "display_name": "Python 3 (ipykernel)",
   "language": "python",
   "name": "python3"
  },
  "language_info": {
   "codemirror_mode": {
    "name": "ipython",
    "version": 3
   },
   "file_extension": ".py",
   "mimetype": "text/x-python",
   "name": "python",
   "nbconvert_exporter": "python",
   "pygments_lexer": "ipython3",
   "version": "3.9.13"
  },
  "toc": {
   "base_numbering": 1,
   "nav_menu": {},
   "number_sections": true,
   "sideBar": true,
   "skip_h1_title": false,
   "title_cell": "Table of Contents",
   "title_sidebar": "Contents",
   "toc_cell": false,
   "toc_position": {},
   "toc_section_display": true,
   "toc_window_display": false
  }
 },
 "nbformat": 4,
 "nbformat_minor": 5
}
