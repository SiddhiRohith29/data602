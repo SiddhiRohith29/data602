{
 "cells": [
  {
   "cell_type": "markdown",
   "id": "f596baf6",
   "metadata": {},
   "source": [
    "# Week7 - Decision Tree Lab\n",
    "\n",
    "* Train-test split\n",
    "* Train a decison tree model\n",
    "* Train a random forest model\n",
    "* Evaluate the models\n",
    "* Explain findings"
   ]
  },
  {
   "cell_type": "code",
   "execution_count": 1,
   "id": "bacdfd11",
   "metadata": {
    "scrolled": true
   },
   "outputs": [
    {
     "data": {
      "text/html": [
       "<div>\n",
       "<style scoped>\n",
       "    .dataframe tbody tr th:only-of-type {\n",
       "        vertical-align: middle;\n",
       "    }\n",
       "\n",
       "    .dataframe tbody tr th {\n",
       "        vertical-align: top;\n",
       "    }\n",
       "\n",
       "    .dataframe thead th {\n",
       "        text-align: right;\n",
       "    }\n",
       "</style>\n",
       "<table border=\"1\" class=\"dataframe\">\n",
       "  <thead>\n",
       "    <tr style=\"text-align: right;\">\n",
       "      <th></th>\n",
       "      <th>left_company</th>\n",
       "      <th>age</th>\n",
       "      <th>frequency_of_travel</th>\n",
       "      <th>department</th>\n",
       "      <th>commuting_distance</th>\n",
       "      <th>education</th>\n",
       "      <th>satisfaction_with_environment</th>\n",
       "      <th>gender</th>\n",
       "      <th>seniority_level</th>\n",
       "      <th>position</th>\n",
       "      <th>satisfaction_with_job</th>\n",
       "      <th>married_or_single</th>\n",
       "      <th>last_raise_pct</th>\n",
       "      <th>last_performance_rating</th>\n",
       "      <th>total_years_working</th>\n",
       "      <th>years_at_company</th>\n",
       "      <th>years_in_current_job</th>\n",
       "      <th>years_since_last_promotion</th>\n",
       "      <th>years_with_current_supervisor</th>\n",
       "    </tr>\n",
       "  </thead>\n",
       "  <tbody>\n",
       "    <tr>\n",
       "      <th>0</th>\n",
       "      <td>No</td>\n",
       "      <td>37</td>\n",
       "      <td>Travel_Rarely</td>\n",
       "      <td>Sales</td>\n",
       "      <td>16</td>\n",
       "      <td>4</td>\n",
       "      <td>4</td>\n",
       "      <td>Male</td>\n",
       "      <td>2</td>\n",
       "      <td>Sales Executive</td>\n",
       "      <td>3</td>\n",
       "      <td>Divorced</td>\n",
       "      <td>19</td>\n",
       "      <td>3</td>\n",
       "      <td>9</td>\n",
       "      <td>1</td>\n",
       "      <td>0</td>\n",
       "      <td>0</td>\n",
       "      <td>0</td>\n",
       "    </tr>\n",
       "    <tr>\n",
       "      <th>1</th>\n",
       "      <td>No</td>\n",
       "      <td>39</td>\n",
       "      <td>Travel_Rarely</td>\n",
       "      <td>Research &amp; Development</td>\n",
       "      <td>3</td>\n",
       "      <td>2</td>\n",
       "      <td>3</td>\n",
       "      <td>Male</td>\n",
       "      <td>2</td>\n",
       "      <td>Laboratory Technician</td>\n",
       "      <td>3</td>\n",
       "      <td>Divorced</td>\n",
       "      <td>15</td>\n",
       "      <td>3</td>\n",
       "      <td>11</td>\n",
       "      <td>10</td>\n",
       "      <td>8</td>\n",
       "      <td>0</td>\n",
       "      <td>7</td>\n",
       "    </tr>\n",
       "    <tr>\n",
       "      <th>2</th>\n",
       "      <td>No</td>\n",
       "      <td>52</td>\n",
       "      <td>Travel_Frequently</td>\n",
       "      <td>Research &amp; Development</td>\n",
       "      <td>25</td>\n",
       "      <td>4</td>\n",
       "      <td>3</td>\n",
       "      <td>Female</td>\n",
       "      <td>4</td>\n",
       "      <td>Manufacturing Director</td>\n",
       "      <td>4</td>\n",
       "      <td>Married</td>\n",
       "      <td>22</td>\n",
       "      <td>4</td>\n",
       "      <td>31</td>\n",
       "      <td>9</td>\n",
       "      <td>8</td>\n",
       "      <td>0</td>\n",
       "      <td>0</td>\n",
       "    </tr>\n",
       "    <tr>\n",
       "      <th>3</th>\n",
       "      <td>No</td>\n",
       "      <td>50</td>\n",
       "      <td>Non-Travel</td>\n",
       "      <td>Sales</td>\n",
       "      <td>1</td>\n",
       "      <td>3</td>\n",
       "      <td>4</td>\n",
       "      <td>Female</td>\n",
       "      <td>2</td>\n",
       "      <td>Sales Executive</td>\n",
       "      <td>3</td>\n",
       "      <td>Married</td>\n",
       "      <td>12</td>\n",
       "      <td>3</td>\n",
       "      <td>19</td>\n",
       "      <td>18</td>\n",
       "      <td>7</td>\n",
       "      <td>0</td>\n",
       "      <td>13</td>\n",
       "    </tr>\n",
       "    <tr>\n",
       "      <th>4</th>\n",
       "      <td>No</td>\n",
       "      <td>44</td>\n",
       "      <td>Travel_Rarely</td>\n",
       "      <td>Research &amp; Development</td>\n",
       "      <td>4</td>\n",
       "      <td>3</td>\n",
       "      <td>4</td>\n",
       "      <td>Male</td>\n",
       "      <td>2</td>\n",
       "      <td>Healthcare Representative</td>\n",
       "      <td>2</td>\n",
       "      <td>Single</td>\n",
       "      <td>12</td>\n",
       "      <td>3</td>\n",
       "      <td>10</td>\n",
       "      <td>5</td>\n",
       "      <td>2</td>\n",
       "      <td>2</td>\n",
       "      <td>3</td>\n",
       "    </tr>\n",
       "    <tr>\n",
       "      <th>...</th>\n",
       "      <td>...</td>\n",
       "      <td>...</td>\n",
       "      <td>...</td>\n",
       "      <td>...</td>\n",
       "      <td>...</td>\n",
       "      <td>...</td>\n",
       "      <td>...</td>\n",
       "      <td>...</td>\n",
       "      <td>...</td>\n",
       "      <td>...</td>\n",
       "      <td>...</td>\n",
       "      <td>...</td>\n",
       "      <td>...</td>\n",
       "      <td>...</td>\n",
       "      <td>...</td>\n",
       "      <td>...</td>\n",
       "      <td>...</td>\n",
       "      <td>...</td>\n",
       "      <td>...</td>\n",
       "    </tr>\n",
       "    <tr>\n",
       "      <th>995</th>\n",
       "      <td>Yes</td>\n",
       "      <td>39</td>\n",
       "      <td>Travel_Rarely</td>\n",
       "      <td>Sales</td>\n",
       "      <td>3</td>\n",
       "      <td>2</td>\n",
       "      <td>4</td>\n",
       "      <td>Female</td>\n",
       "      <td>2</td>\n",
       "      <td>Sales Executive</td>\n",
       "      <td>3</td>\n",
       "      <td>Married</td>\n",
       "      <td>18</td>\n",
       "      <td>3</td>\n",
       "      <td>12</td>\n",
       "      <td>1</td>\n",
       "      <td>0</td>\n",
       "      <td>0</td>\n",
       "      <td>0</td>\n",
       "    </tr>\n",
       "    <tr>\n",
       "      <th>996</th>\n",
       "      <td>Yes</td>\n",
       "      <td>26</td>\n",
       "      <td>Travel_Rarely</td>\n",
       "      <td>Sales</td>\n",
       "      <td>4</td>\n",
       "      <td>4</td>\n",
       "      <td>4</td>\n",
       "      <td>Male</td>\n",
       "      <td>2</td>\n",
       "      <td>Sales Executive</td>\n",
       "      <td>4</td>\n",
       "      <td>Single</td>\n",
       "      <td>12</td>\n",
       "      <td>3</td>\n",
       "      <td>8</td>\n",
       "      <td>8</td>\n",
       "      <td>7</td>\n",
       "      <td>7</td>\n",
       "      <td>4</td>\n",
       "    </tr>\n",
       "    <tr>\n",
       "      <th>997</th>\n",
       "      <td>Yes</td>\n",
       "      <td>18</td>\n",
       "      <td>Travel_Frequently</td>\n",
       "      <td>Sales</td>\n",
       "      <td>5</td>\n",
       "      <td>3</td>\n",
       "      <td>2</td>\n",
       "      <td>Male</td>\n",
       "      <td>1</td>\n",
       "      <td>Sales Representative</td>\n",
       "      <td>2</td>\n",
       "      <td>Single</td>\n",
       "      <td>14</td>\n",
       "      <td>3</td>\n",
       "      <td>0</td>\n",
       "      <td>0</td>\n",
       "      <td>0</td>\n",
       "      <td>0</td>\n",
       "      <td>0</td>\n",
       "    </tr>\n",
       "    <tr>\n",
       "      <th>998</th>\n",
       "      <td>Yes</td>\n",
       "      <td>28</td>\n",
       "      <td>Travel_Rarely</td>\n",
       "      <td>Research &amp; Development</td>\n",
       "      <td>2</td>\n",
       "      <td>4</td>\n",
       "      <td>1</td>\n",
       "      <td>Male</td>\n",
       "      <td>1</td>\n",
       "      <td>Research Scientist</td>\n",
       "      <td>4</td>\n",
       "      <td>Married</td>\n",
       "      <td>13</td>\n",
       "      <td>3</td>\n",
       "      <td>5</td>\n",
       "      <td>3</td>\n",
       "      <td>2</td>\n",
       "      <td>2</td>\n",
       "      <td>2</td>\n",
       "    </tr>\n",
       "    <tr>\n",
       "      <th>999</th>\n",
       "      <td>Yes</td>\n",
       "      <td>29</td>\n",
       "      <td>Travel_Frequently</td>\n",
       "      <td>Sales</td>\n",
       "      <td>13</td>\n",
       "      <td>3</td>\n",
       "      <td>1</td>\n",
       "      <td>Female</td>\n",
       "      <td>2</td>\n",
       "      <td>Sales Executive</td>\n",
       "      <td>2</td>\n",
       "      <td>Single</td>\n",
       "      <td>11</td>\n",
       "      <td>3</td>\n",
       "      <td>7</td>\n",
       "      <td>5</td>\n",
       "      <td>3</td>\n",
       "      <td>0</td>\n",
       "      <td>0</td>\n",
       "    </tr>\n",
       "  </tbody>\n",
       "</table>\n",
       "<p>1000 rows × 19 columns</p>\n",
       "</div>"
      ],
      "text/plain": [
       "    left_company  age frequency_of_travel              department  \\\n",
       "0             No   37       Travel_Rarely                   Sales   \n",
       "1             No   39       Travel_Rarely  Research & Development   \n",
       "2             No   52   Travel_Frequently  Research & Development   \n",
       "3             No   50          Non-Travel                   Sales   \n",
       "4             No   44       Travel_Rarely  Research & Development   \n",
       "..           ...  ...                 ...                     ...   \n",
       "995          Yes   39       Travel_Rarely                   Sales   \n",
       "996          Yes   26       Travel_Rarely                   Sales   \n",
       "997          Yes   18   Travel_Frequently                   Sales   \n",
       "998          Yes   28       Travel_Rarely  Research & Development   \n",
       "999          Yes   29   Travel_Frequently                   Sales   \n",
       "\n",
       "     commuting_distance  education  satisfaction_with_environment  gender  \\\n",
       "0                    16          4                              4    Male   \n",
       "1                     3          2                              3    Male   \n",
       "2                    25          4                              3  Female   \n",
       "3                     1          3                              4  Female   \n",
       "4                     4          3                              4    Male   \n",
       "..                  ...        ...                            ...     ...   \n",
       "995                   3          2                              4  Female   \n",
       "996                   4          4                              4    Male   \n",
       "997                   5          3                              2    Male   \n",
       "998                   2          4                              1    Male   \n",
       "999                  13          3                              1  Female   \n",
       "\n",
       "     seniority_level                   position  satisfaction_with_job  \\\n",
       "0                  2            Sales Executive                      3   \n",
       "1                  2      Laboratory Technician                      3   \n",
       "2                  4     Manufacturing Director                      4   \n",
       "3                  2            Sales Executive                      3   \n",
       "4                  2  Healthcare Representative                      2   \n",
       "..               ...                        ...                    ...   \n",
       "995                2            Sales Executive                      3   \n",
       "996                2            Sales Executive                      4   \n",
       "997                1       Sales Representative                      2   \n",
       "998                1         Research Scientist                      4   \n",
       "999                2            Sales Executive                      2   \n",
       "\n",
       "    married_or_single  last_raise_pct  last_performance_rating  \\\n",
       "0            Divorced              19                        3   \n",
       "1            Divorced              15                        3   \n",
       "2             Married              22                        4   \n",
       "3             Married              12                        3   \n",
       "4              Single              12                        3   \n",
       "..                ...             ...                      ...   \n",
       "995           Married              18                        3   \n",
       "996            Single              12                        3   \n",
       "997            Single              14                        3   \n",
       "998           Married              13                        3   \n",
       "999            Single              11                        3   \n",
       "\n",
       "     total_years_working  years_at_company  years_in_current_job  \\\n",
       "0                      9                 1                     0   \n",
       "1                     11                10                     8   \n",
       "2                     31                 9                     8   \n",
       "3                     19                18                     7   \n",
       "4                     10                 5                     2   \n",
       "..                   ...               ...                   ...   \n",
       "995                   12                 1                     0   \n",
       "996                    8                 8                     7   \n",
       "997                    0                 0                     0   \n",
       "998                    5                 3                     2   \n",
       "999                    7                 5                     3   \n",
       "\n",
       "     years_since_last_promotion  years_with_current_supervisor  \n",
       "0                             0                              0  \n",
       "1                             0                              7  \n",
       "2                             0                              0  \n",
       "3                             0                             13  \n",
       "4                             2                              3  \n",
       "..                          ...                            ...  \n",
       "995                           0                              0  \n",
       "996                           7                              4  \n",
       "997                           0                              0  \n",
       "998                           2                              2  \n",
       "999                           0                              0  \n",
       "\n",
       "[1000 rows x 19 columns]"
      ]
     },
     "execution_count": 1,
     "metadata": {},
     "output_type": "execute_result"
    }
   ],
   "source": [
    "import pandas as pd\n",
    "import numpy as np\n",
    "import matplotlib.pyplot as plt\n",
    "%matplotlib inline\n",
    "\n",
    "df = pd.read_csv('https://raw.githubusercontent.com/msaricaumbc/DS_data/master/ds602/log_reg/employee-turnover-balanced.csv')\n",
    "features = [x for x in df.columns if x != 'left_company' and x != 'years_in_current_job' and x != 'years_with_current_supervisor']\n",
    "\n",
    "y = df['left_company']\n",
    "X = df[features]\n",
    "df"
   ]
  },
  {
   "cell_type": "markdown",
   "id": "627b7bc9",
   "metadata": {},
   "source": [
    "#### Train-test split"
   ]
  },
  {
   "cell_type": "code",
   "execution_count": 2,
   "id": "84b178d1",
   "metadata": {},
   "outputs": [
    {
     "name": "stdout",
     "output_type": "stream",
     "text": [
      "Records in training data: 800\n",
      "Records in test data: 200\n"
     ]
    }
   ],
   "source": [
    "from sklearn.model_selection import train_test_split\n",
    "\n",
    "X_train, X_test, y_train, y_test = train_test_split(X, y, test_size=0.2, random_state=124)\n",
    "print(f'Records in training data: {X_train.shape[0]:,}')\n",
    "print(f'Records in test data: {X_test.shape[0]:,}')"
   ]
  },
  {
   "cell_type": "markdown",
   "id": "8fb54903",
   "metadata": {},
   "source": [
    "#### Train a decison tree model"
   ]
  },
  {
   "cell_type": "code",
   "execution_count": 3,
   "id": "80c868e6",
   "metadata": {},
   "outputs": [
    {
     "data": {
      "text/plain": [
       "['age',\n",
       " 'commuting_distance',\n",
       " 'education',\n",
       " 'seniority_level',\n",
       " 'last_raise_pct',\n",
       " 'last_performance_rating',\n",
       " 'total_years_working',\n",
       " 'years_at_company',\n",
       " 'years_since_last_promotion']"
      ]
     },
     "execution_count": 3,
     "metadata": {},
     "output_type": "execute_result"
    }
   ],
   "source": [
    "numerical_features = []\n",
    "categorical_features = []\n",
    "for i in df:\n",
    "    if i in [ 'frequency_of_travel', 'department','gender','position','satisfaction_with_job','married_or_single','satisfaction_with_environment']:\n",
    "        categorical_features.append(i)\n",
    "    else:\n",
    "        numerical_features.append(i)\n",
    "numerical_features.remove('left_company')\n",
    "numerical_features.remove('years_in_current_job')\n",
    "numerical_features.remove('years_with_current_supervisor')\n",
    "numerical_features"
   ]
  },
  {
   "cell_type": "code",
   "execution_count": 4,
   "id": "a93f27ce",
   "metadata": {
    "scrolled": true
   },
   "outputs": [
    {
     "data": {
      "text/plain": [
       "['frequency_of_travel',\n",
       " 'department',\n",
       " 'satisfaction_with_environment',\n",
       " 'gender',\n",
       " 'position',\n",
       " 'satisfaction_with_job',\n",
       " 'married_or_single']"
      ]
     },
     "execution_count": 4,
     "metadata": {},
     "output_type": "execute_result"
    }
   ],
   "source": [
    "categorical_features"
   ]
  },
  {
   "cell_type": "code",
   "execution_count": 5,
   "id": "4e839fa3",
   "metadata": {},
   "outputs": [],
   "source": [
    "from sklearn.pipeline import Pipeline\n",
    "from sklearn.compose import ColumnTransformer\n",
    "from sklearn.impute import SimpleImputer\n",
    "from sklearn.preprocessing import OneHotEncoder\n",
    "from sklearn.preprocessing import StandardScaler\n",
    "\n",
    "num_pipeline = Pipeline([('impute_missing', SimpleImputer(strategy='median')),\n",
    "                           ('standardize_num', StandardScaler())\n",
    "                        ])"
   ]
  },
  {
   "cell_type": "code",
   "execution_count": 6,
   "id": "ccfb9ed8",
   "metadata": {},
   "outputs": [],
   "source": [
    "cat_pipeline = Pipeline([('impute_missing_cats', SimpleImputer(strategy='most_frequent')),\n",
    "                          ('create_dummies_cats', OneHotEncoder(handle_unknown='ignore', drop='first'))])"
   ]
  },
  {
   "cell_type": "code",
   "execution_count": 7,
   "id": "ab5aa761",
   "metadata": {},
   "outputs": [
    {
     "name": "stdout",
     "output_type": "stream",
     "text": [
      "ColumnTransformer(transformers=[('proc_numeric',\n",
      "                                 Pipeline(steps=[('impute_missing',\n",
      "                                                  SimpleImputer(strategy='median')),\n",
      "                                                 ('standardize_num',\n",
      "                                                  StandardScaler())]),\n",
      "                                 ['age', 'commuting_distance', 'education',\n",
      "                                  'seniority_level', 'last_raise_pct',\n",
      "                                  'last_performance_rating',\n",
      "                                  'total_years_working', 'years_at_company',\n",
      "                                  'years_since_last_promotion']),\n",
      "                                ('create_dummies',\n",
      "                                 Pipeline(steps=[('impute_missing_cats',\n",
      "                                                  SimpleImputer(strategy='most_frequent')),\n",
      "                                                 ('create_dummies_cats',\n",
      "                                                  OneHotEncoder(drop='first',\n",
      "                                                                handle_unknown='ignore'))]),\n",
      "                                 ['frequency_of_travel', 'department',\n",
      "                                  'satisfaction_with_environment', 'gender',\n",
      "                                  'position', 'satisfaction_with_job',\n",
      "                                  'married_or_single'])])\n"
     ]
    }
   ],
   "source": [
    "processing_pipeline = ColumnTransformer(transformers=[('proc_numeric', num_pipeline, numerical_features),\n",
    "                                                      ('create_dummies', cat_pipeline, categorical_features)])\n",
    "print(processing_pipeline)"
   ]
  },
  {
   "cell_type": "code",
   "execution_count": 8,
   "id": "f48ee5ac",
   "metadata": {},
   "outputs": [
    {
     "name": "stdout",
     "output_type": "stream",
     "text": [
      "(800, 30)\n"
     ]
    }
   ],
   "source": [
    "X_train_processed = processing_pipeline.fit_transform(X_train)\n",
    "\n",
    "# check the shape of the processed dataset\n",
    "print(X_train_processed.shape)"
   ]
  },
  {
   "cell_type": "code",
   "execution_count": 9,
   "id": "3a06c595",
   "metadata": {},
   "outputs": [
    {
     "data": {
      "text/plain": [
       "Pipeline(steps=[('preprocess',\n",
       "                 ColumnTransformer(transformers=[('proc_numeric',\n",
       "                                                  Pipeline(steps=[('impute_missing',\n",
       "                                                                   SimpleImputer(strategy='median')),\n",
       "                                                                  ('standardize_num',\n",
       "                                                                   StandardScaler())]),\n",
       "                                                  ['age', 'commuting_distance',\n",
       "                                                   'education',\n",
       "                                                   'seniority_level',\n",
       "                                                   'last_raise_pct',\n",
       "                                                   'last_performance_rating',\n",
       "                                                   'total_years_working',\n",
       "                                                   'years_at_company',\n",
       "                                                   'years_since_last_promo...\n",
       "                                                  Pipeline(steps=[('impute_missing_cats',\n",
       "                                                                   SimpleImputer(strategy='most_frequent')),\n",
       "                                                                  ('create_dummies_cats',\n",
       "                                                                   OneHotEncoder(drop='first',\n",
       "                                                                                 handle_unknown='ignore'))]),\n",
       "                                                  ['frequency_of_travel',\n",
       "                                                   'department',\n",
       "                                                   'satisfaction_with_environment',\n",
       "                                                   'gender', 'position',\n",
       "                                                   'satisfaction_with_job',\n",
       "                                                   'married_or_single'])])),\n",
       "                ('classifier', DecisionTreeClassifier(random_state=1))])"
      ]
     },
     "execution_count": 9,
     "metadata": {},
     "output_type": "execute_result"
    }
   ],
   "source": [
    "from sklearn import tree\n",
    "from sklearn.tree import DecisionTreeClassifier\n",
    "tree_model = DecisionTreeClassifier(criterion='gini', random_state=1)\n",
    "\n",
    "tree_pipeline = Pipeline([('preprocess', processing_pipeline),\n",
    "                          ('classifier', tree_model)])\n",
    "\n",
    "tree_pipeline.fit(X_train, y_train)"
   ]
  },
  {
   "cell_type": "code",
   "execution_count": 10,
   "id": "3d679d31",
   "metadata": {},
   "outputs": [
    {
     "data": {
      "text/plain": [
       "1.0"
      ]
     },
     "execution_count": 10,
     "metadata": {},
     "output_type": "execute_result"
    }
   ],
   "source": [
    "tree_pipeline.score(X_train, y_train)"
   ]
  },
  {
   "cell_type": "code",
   "execution_count": 11,
   "id": "41a416e9",
   "metadata": {},
   "outputs": [
    {
     "data": {
      "text/plain": [
       "0.805"
      ]
     },
     "execution_count": 11,
     "metadata": {},
     "output_type": "execute_result"
    }
   ],
   "source": [
    "tree_pipeline.score(X_test, y_test)"
   ]
  },
  {
   "cell_type": "markdown",
   "id": "34fd9c96",
   "metadata": {},
   "source": [
    "#### Evaluation"
   ]
  },
  {
   "cell_type": "code",
   "execution_count": 12,
   "id": "51d254a7",
   "metadata": {},
   "outputs": [],
   "source": [
    "y_hat_train = tree_pipeline.predict(X_train)\n",
    "y_hat_test = tree_pipeline.predict(X_test)\n",
    "\n"
   ]
  },
  {
   "cell_type": "code",
   "execution_count": 13,
   "id": "138680af",
   "metadata": {},
   "outputs": [],
   "source": [
    "from sklearn.preprocessing import LabelEncoder\n",
    "\n",
    "le = LabelEncoder()\n",
    "y_hat_train = le.fit_transform(y_hat_train)\n",
    "y_hat_test = le.fit_transform(y_hat_test)\n",
    "y_train = le.fit_transform(y_train)\n",
    "y_test = le.fit_transform(y_test)\n"
   ]
  },
  {
   "cell_type": "code",
   "execution_count": 14,
   "id": "81a03dc6",
   "metadata": {},
   "outputs": [
    {
     "name": "stdout",
     "output_type": "stream",
     "text": [
      "Training ROC-AUC score: 1.0\n",
      "Test ROC-AUC score: 0.7994673902120389\n"
     ]
    }
   ],
   "source": [
    "# Calculate ROC-AUC score\n",
    "from sklearn.metrics import roc_auc_score\n",
    "train_auc = roc_auc_score(y_train, y_hat_train)\n",
    "test_auc = roc_auc_score(y_test, y_hat_test)\n",
    "\n",
    "print(\"Training ROC-AUC score:\", train_auc)\n",
    "print(\"Test ROC-AUC score:\", test_auc)\n"
   ]
  },
  {
   "cell_type": "markdown",
   "id": "4a982a5b",
   "metadata": {},
   "source": [
    "#### Explain Findings"
   ]
  },
  {
   "cell_type": "markdown",
   "id": "81851bad",
   "metadata": {},
   "source": [
    "* This might be a sign that the model has overfitted the training set and needs more regularization or tuning. It's also important to note that the relatively small difference in ROC-AUC scores between the training and test groups indicates that the model is not significantly overfitting. The model appears to perform reasonably well overall, but additional research and testing might be required to improve its performance."
   ]
  },
  {
   "cell_type": "markdown",
   "id": "09ff33ed",
   "metadata": {},
   "source": [
    "#### Train a random forest model"
   ]
  },
  {
   "cell_type": "code",
   "execution_count": 15,
   "id": "fa37534f",
   "metadata": {},
   "outputs": [
    {
     "data": {
      "text/plain": [
       "Pipeline(steps=[('preprocess',\n",
       "                 ColumnTransformer(transformers=[('proc_numeric',\n",
       "                                                  Pipeline(steps=[('impute_missing',\n",
       "                                                                   SimpleImputer(strategy='median')),\n",
       "                                                                  ('standardize_num',\n",
       "                                                                   StandardScaler())]),\n",
       "                                                  ['age', 'commuting_distance',\n",
       "                                                   'education',\n",
       "                                                   'seniority_level',\n",
       "                                                   'last_raise_pct',\n",
       "                                                   'last_performance_rating',\n",
       "                                                   'total_years_working',\n",
       "                                                   'years_at_company',\n",
       "                                                   'years_since_last_promo...\n",
       "                                                  Pipeline(steps=[('impute_missing_cats',\n",
       "                                                                   SimpleImputer(strategy='most_frequent')),\n",
       "                                                                  ('create_dummies_cats',\n",
       "                                                                   OneHotEncoder(drop='first',\n",
       "                                                                                 handle_unknown='ignore'))]),\n",
       "                                                  ['frequency_of_travel',\n",
       "                                                   'department',\n",
       "                                                   'satisfaction_with_environment',\n",
       "                                                   'gender', 'position',\n",
       "                                                   'satisfaction_with_job',\n",
       "                                                   'married_or_single'])])),\n",
       "                ('classifier', RandomForestClassifier(n_estimators=20))])"
      ]
     },
     "execution_count": 15,
     "metadata": {},
     "output_type": "execute_result"
    }
   ],
   "source": [
    "from sklearn.ensemble import RandomForestClassifier\n",
    "RandomForestClassifier_model = RandomForestClassifier(n_estimators=20)\n",
    "\n",
    "RandomForest_pipeline = Pipeline([('preprocess', processing_pipeline),\n",
    "                          ('classifier', RandomForestClassifier_model)])\n",
    "\n",
    "RandomForest_pipeline.fit(X_train, y_train)"
   ]
  },
  {
   "cell_type": "code",
   "execution_count": 16,
   "id": "895ef7be",
   "metadata": {},
   "outputs": [
    {
     "data": {
      "text/plain": [
       "1.0"
      ]
     },
     "execution_count": 16,
     "metadata": {},
     "output_type": "execute_result"
    }
   ],
   "source": [
    "RandomForest_pipeline.score(X_train, y_train)"
   ]
  },
  {
   "cell_type": "code",
   "execution_count": 17,
   "id": "50e3957d",
   "metadata": {},
   "outputs": [
    {
     "data": {
      "text/plain": [
       "0.845"
      ]
     },
     "execution_count": 17,
     "metadata": {},
     "output_type": "execute_result"
    }
   ],
   "source": [
    "RandomForest_pipeline.score(X_test, y_test)"
   ]
  },
  {
   "cell_type": "markdown",
   "id": "5ced3810",
   "metadata": {},
   "source": [
    "#### Evaluation"
   ]
  },
  {
   "cell_type": "code",
   "execution_count": 18,
   "id": "57ec3793",
   "metadata": {},
   "outputs": [],
   "source": [
    "y_hat_train = RandomForest_pipeline.predict(X_train)\n",
    "y_hat_test = RandomForest_pipeline.predict(X_test)\n"
   ]
  },
  {
   "cell_type": "code",
   "execution_count": 19,
   "id": "d70118ff",
   "metadata": {},
   "outputs": [],
   "source": [
    "y_hat_train = le.fit_transform(y_hat_train)\n",
    "y_hat_test = le.fit_transform(y_hat_test)\n",
    "y_train = le.fit_transform(y_train)\n",
    "y_test = le.fit_transform(y_test)\n"
   ]
  },
  {
   "cell_type": "code",
   "execution_count": 20,
   "id": "b402f96d",
   "metadata": {},
   "outputs": [
    {
     "name": "stdout",
     "output_type": "stream",
     "text": [
      "Training ROC-AUC score: 1.0\n",
      "Test ROC-AUC score: 0.842478142900211\n"
     ]
    }
   ],
   "source": [
    "# Calculate ROC-AUC score\n",
    "from sklearn.metrics import roc_auc_score\n",
    "train_auc = roc_auc_score(y_train, y_hat_train)\n",
    "test_auc = roc_auc_score(y_test, y_hat_test)\n",
    "\n",
    "print(\"Training ROC-AUC score:\", train_auc)\n",
    "print(\"Test ROC-AUC score:\", test_auc)\n"
   ]
  },
  {
   "cell_type": "markdown",
   "id": "a11f9224",
   "metadata": {},
   "source": [
    "#### Explain Findings"
   ]
  },
  {
   "cell_type": "markdown",
   "id": "925b800d",
   "metadata": {},
   "source": [
    "* The model can successfully distinguish between positive and negative samples in the training data, as evidenced by the high training score. The model may be overfitting to the training data and not generalizing well to new, unseen data, according to the lower test score, though."
   ]
  }
 ],
 "metadata": {
  "kernelspec": {
   "display_name": "Python 3 (ipykernel)",
   "language": "python",
   "name": "python3"
  },
  "language_info": {
   "codemirror_mode": {
    "name": "ipython",
    "version": 3
   },
   "file_extension": ".py",
   "mimetype": "text/x-python",
   "name": "python",
   "nbconvert_exporter": "python",
   "pygments_lexer": "ipython3",
   "version": "3.9.13"
  },
  "toc": {
   "base_numbering": 1,
   "nav_menu": {},
   "number_sections": false,
   "sideBar": true,
   "skip_h1_title": false,
   "title_cell": "Table of Contents",
   "title_sidebar": "Contents",
   "toc_cell": false,
   "toc_position": {},
   "toc_section_display": true,
   "toc_window_display": true
  }
 },
 "nbformat": 4,
 "nbformat_minor": 5
}
